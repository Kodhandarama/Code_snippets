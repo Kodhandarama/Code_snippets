{
  "nbformat": 4,
  "nbformat_minor": 0,
  "metadata": {
    "colab": {
      "provenance": [],
      "authorship_tag": "ABX9TyMkpwjhZ6qwVNb78yRkLj/a",
      "include_colab_link": true
    },
    "kernelspec": {
      "name": "python3",
      "display_name": "Python 3"
    },
    "language_info": {
      "name": "python"
    }
  },
  "cells": [
    {
      "cell_type": "markdown",
      "metadata": {
        "id": "view-in-github",
        "colab_type": "text"
      },
      "source": [
        "<a href=\"https://colab.research.google.com/github/Kodhandarama/Code_snippets/blob/main/code_snippets.ipynb\" target=\"_parent\"><img src=\"https://colab.research.google.com/assets/colab-badge.svg\" alt=\"Open In Colab\"/></a>"
      ]
    },
    {
      "cell_type": "code",
      "execution_count": null,
      "metadata": {
        "colab": {
          "base_uri": "https://localhost:8080/"
        },
        "id": "_jiMx9sSNZOT",
        "outputId": "39c732cb-841d-4622-aa16-d2fde074a475"
      },
      "outputs": [
        {
          "output_type": "stream",
          "name": "stdout",
          "text": [
            "0\n",
            "4\n",
            "1\n",
            "5\n",
            "2\n",
            "6\n"
          ]
        }
      ],
      "source": [
        "#interating through index and value at same time:\n",
        "listt = [4,5,6]\n",
        "for i, a in enumerate(listt):\n",
        "  print(i)\n",
        "  print(a)"
      ]
    },
    {
      "cell_type": "code",
      "source": [
        "# create dictionary of empty lists\n",
        "preMap = {i:[] for i in range(5)}\n",
        "print(preMap)"
      ],
      "metadata": {
        "id": "HRTmLQ6iN0G4",
        "colab": {
          "base_uri": "https://localhost:8080/"
        },
        "outputId": "1925d499-765f-45ac-8ed9-958372a69722"
      },
      "execution_count": null,
      "outputs": [
        {
          "output_type": "stream",
          "name": "stdout",
          "text": [
            "{0: [], 1: [], 2: [], 3: [], 4: []}\n"
          ]
        }
      ]
    },
    {
      "cell_type": "code",
      "source": [
        "# Map counter\n",
        "s = \"aabbbccccddddd\"\n",
        "paldic = {}\n",
        "for i in range(len(s)):\n",
        "            paldic[s[i]] = 1 + paldic.get(s[i], 0)\n",
        "print(paldic)"
      ],
      "metadata": {
        "colab": {
          "base_uri": "https://localhost:8080/"
        },
        "id": "KtfjYDCMN12K",
        "outputId": "3dca89d3-94d3-4584-bcc5-13c7914ac380"
      },
      "execution_count": null,
      "outputs": [
        {
          "output_type": "stream",
          "name": "stdout",
          "text": [
            "{'a': 2, 'b': 3, 'c': 4, 'd': 5}\n"
          ]
        }
      ]
    }
  ]
}