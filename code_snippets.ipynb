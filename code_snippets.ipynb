{
  "nbformat": 4,
  "nbformat_minor": 0,
  "metadata": {
    "colab": {
      "provenance": [],
      "authorship_tag": "ABX9TyPt++2X4pBjHcxuRzjcnJ7q",
      "include_colab_link": true
    },
    "kernelspec": {
      "name": "python3",
      "display_name": "Python 3"
    },
    "language_info": {
      "name": "python"
    }
  },
  "cells": [
    {
      "cell_type": "markdown",
      "metadata": {
        "id": "view-in-github",
        "colab_type": "text"
      },
      "source": [
        "<a href=\"https://colab.research.google.com/github/Kodhandarama/Code_snippets/blob/main/code_snippets.ipynb\" target=\"_parent\"><img src=\"https://colab.research.google.com/assets/colab-badge.svg\" alt=\"Open In Colab\"/></a>"
      ]
    },
    {
      "cell_type": "code",
      "execution_count": null,
      "metadata": {
        "colab": {
          "base_uri": "https://localhost:8080/"
        },
        "id": "_jiMx9sSNZOT",
        "outputId": "39c732cb-841d-4622-aa16-d2fde074a475"
      },
      "outputs": [
        {
          "output_type": "stream",
          "name": "stdout",
          "text": [
            "0\n",
            "4\n",
            "1\n",
            "5\n",
            "2\n",
            "6\n"
          ]
        }
      ],
      "source": []
    },
    {
      "cell_type": "code",
      "source": [],
      "metadata": {
        "id": "HRTmLQ6iN0G4",
        "colab": {
          "base_uri": "https://localhost:8080/"
        },
        "outputId": "1925d499-765f-45ac-8ed9-958372a69722"
      },
      "execution_count": null,
      "outputs": [
        {
          "output_type": "stream",
          "name": "stdout",
          "text": [
            "{0: [], 1: [], 2: [], 3: [], 4: []}\n"
          ]
        }
      ]
    },
    {
      "cell_type": "code",
      "source": [
        "# Map counter\n",
        "s = \"aabbbccccddddd\"\n",
        "paldic = {}\n",
        "for i in range(len(s)):\n",
        "            paldic[s[i]] = 1 + paldic.get(s[i], 0)\n",
        "print(paldic)"
      ],
      "metadata": {
        "colab": {
          "base_uri": "https://localhost:8080/"
        },
        "id": "KtfjYDCMN12K",
        "outputId": "3dca89d3-94d3-4584-bcc5-13c7914ac380"
      },
      "execution_count": null,
      "outputs": [
        {
          "output_type": "stream",
          "name": "stdout",
          "text": [
            "{'a': 2, 'b': 3, 'c': 4, 'd': 5}\n"
          ]
        }
      ]
    },
    {
      "cell_type": "code",
      "source": [
        "#array operations\n",
        "arr = [1,2,3,4,5]\n",
        "arr.pop()\n",
        "arr.append(6)\n",
        "arr.insert(1,7)\n",
        "\n",
        "arr2 = [1] * 5\n",
        "\n",
        "#Slicing\n",
        "\n",
        "start = 1\n",
        "end_not_included = 5\n",
        "print(arr[start:end_not_included])\n",
        "\n",
        "#interating through index and value at same time:\n",
        "listt = [4,5,6]\n",
        "for i, a in enumerate(listt):\n",
        "  print(i)\n",
        "  print(a)\n",
        "\n",
        "#reverse\n",
        "arr.reverse()\n",
        "\n",
        "#sort\n",
        "\n",
        "arr.sort() #reverse = True\n",
        "\n",
        "#Lambda function\n",
        "\n",
        "#list comprehension\n",
        "arr4 = [i for i in range(5)]"
      ],
      "metadata": {
        "colab": {
          "base_uri": "https://localhost:8080/"
        },
        "id": "bJqOXRoOLLTs",
        "outputId": "52a785b7-000e-47ae-b677-8084da053928"
      },
      "execution_count": 1,
      "outputs": [
        {
          "output_type": "stream",
          "name": "stdout",
          "text": [
            "[7, 2, 3, 4]\n"
          ]
        }
      ]
    },
    {
      "cell_type": "code",
      "source": [
        "#strings\n",
        "\n",
        "#They are immutable, can't edit but can update\n",
        "print(ord('a')) #ascii\n",
        "\n",
        "# print(\"\".join(strs))"
      ],
      "metadata": {
        "id": "VXb554I9SOk8"
      },
      "execution_count": null,
      "outputs": []
    },
    {
      "cell_type": "code",
      "source": [
        "#queues\n",
        "\n",
        "from collections import deque\n",
        "\n",
        "queue = deque()\n",
        "queue.append(1)\n",
        "queue.append(2)\n",
        "queue.append(3)\n",
        "queue.append(4)\n",
        "queue.append(5)\n",
        "\n",
        "queue.pop()\n",
        "queue.popleft()\n",
        "queue.appendleft(5)\n",
        "print(queue)"
      ],
      "metadata": {
        "colab": {
          "base_uri": "https://localhost:8080/"
        },
        "id": "vVntzbhOSqMg",
        "outputId": "488643d7-61bf-4cef-aa70-548b5075e92f"
      },
      "execution_count": 4,
      "outputs": [
        {
          "output_type": "stream",
          "name": "stdout",
          "text": [
            "deque([5, 2, 3, 4])\n"
          ]
        }
      ]
    },
    {
      "cell_type": "code",
      "source": [
        "#set\n",
        "#all O(1)\n",
        "sets = set()\n",
        "sets.add(1)\n",
        "\n",
        "# if 1 in sets:\n",
        "  # sets.remove(1)\n",
        "print(sets)"
      ],
      "metadata": {
        "id": "DxqXe3n2V19E",
        "outputId": "f9f2f125-5670-47a1-d4e7-55e62582878c",
        "colab": {
          "base_uri": "https://localhost:8080/"
        }
      },
      "execution_count": 7,
      "outputs": [
        {
          "output_type": "stream",
          "name": "stdout",
          "text": [
            "{1}\n"
          ]
        }
      ]
    },
    {
      "cell_type": "code",
      "source": [
        "#hashmaps\n",
        "\n",
        "# no duplicate keys\n",
        "map = {1:3, 3:5}\n",
        "\n",
        "map[0]  = 1\n",
        "map.pop(0)\n",
        "\n",
        "# create dictionary of empty lists\n",
        "preMap = {i:[] for i in range(5)}\n",
        "print(preMap)\n",
        "\n",
        "for key,val in map.items():\n",
        "  print(key,val)"
      ],
      "metadata": {
        "id": "lgAgSICCWTeH",
        "outputId": "abc36051-e2a5-495d-d6dd-d5fef4a874e4",
        "colab": {
          "base_uri": "https://localhost:8080/"
        }
      },
      "execution_count": 9,
      "outputs": [
        {
          "output_type": "stream",
          "name": "stdout",
          "text": [
            "{0: [], 1: [], 2: [], 3: [], 4: []}\n",
            "1 3\n",
            "3 5\n"
          ]
        }
      ]
    },
    {
      "cell_type": "code",
      "source": [
        "#tuples\n",
        "\n",
        "tup = (1,2,3)\n",
        "# mostly used as keys for hashmaps/sets because lists are not hashable"
      ],
      "metadata": {
        "id": "Kr0RRn97XWD5"
      },
      "execution_count": null,
      "outputs": []
    },
    {
      "cell_type": "code",
      "source": [
        "#heaps\n",
        "\n",
        "#minheap\n",
        "import heapq\n",
        "\n",
        "\n",
        "minHeap = []\n",
        "heapq.heappush(minHeap,4)\n",
        "heapq.heappush(minHeap,5)\n",
        "heapq.heappush(minHeap,1)\n",
        "\n",
        "print(minHeap)\n",
        "\n",
        "while len(minHeap):\n",
        "  print(heapq.heappop(minHeap))\n",
        "\n",
        "#maxheap\n",
        "maxHeap = []\n",
        "heapq.heappush(maxHeap,-4)\n",
        "heapq.heappush(maxHeap,-5)\n",
        "heapq.heappush(maxHeap,-1)\n",
        "\n",
        "while len(maxHeap):\n",
        "  print(-1 * heapq.heappop(maxHeap))\n",
        "\n",
        "heapq.heapify([1,2,3,4,5])\n"
      ],
      "metadata": {
        "id": "1rfeuzajXjPl",
        "outputId": "4aaf3187-edd4-4173-cfd6-670604d67dae",
        "colab": {
          "base_uri": "https://localhost:8080/"
        }
      },
      "execution_count": 18,
      "outputs": [
        {
          "output_type": "stream",
          "name": "stdout",
          "text": [
            "[1, 5, 4]\n",
            "1\n",
            "4\n",
            "5\n",
            "5\n",
            "4\n",
            "1\n"
          ]
        }
      ]
    },
    {
      "cell_type": "code",
      "source": [
        "#functions\n",
        "\n",
        "def func():\n",
        "  #can use nested functions\n",
        "  def nest():\n",
        "\n",
        "    pass"
      ],
      "metadata": {
        "id": "qexafaqceb7m"
      },
      "execution_count": null,
      "outputs": []
    },
    {
      "cell_type": "code",
      "source": [
        "#class\n",
        "\n",
        "class Myclass:\n",
        "#self is passed into every member function\n",
        "  def __init__(self,nums):\n",
        "    self.nums = nums\n",
        "    self.get_memberfunc()\n"
      ],
      "metadata": {
        "id": "lgSx9eXlePOW"
      },
      "execution_count": null,
      "outputs": []
    }
  ]
}